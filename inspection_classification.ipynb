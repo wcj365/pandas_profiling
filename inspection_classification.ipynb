{
  "nbformat": 4,
  "nbformat_minor": 0,
  "metadata": {
    "colab": {
      "name": "inspection_classification.ipynb",
      "provenance": [],
      "authorship_tag": "ABX9TyNjbNpd6n+TlKM+7e3jeVF1",
      "include_colab_link": true
    },
    "kernelspec": {
      "name": "python3",
      "display_name": "Python 3"
    }
  },
  "cells": [
    {
      "cell_type": "markdown",
      "metadata": {
        "id": "view-in-github",
        "colab_type": "text"
      },
      "source": [
        "<a href=\"https://colab.research.google.com/github/wcj365/pandas_profiling/blob/master/inspection_classification.ipynb\" target=\"_parent\"><img src=\"https://colab.research.google.com/assets/colab-badge.svg\" alt=\"Open In Colab\"/></a>"
      ]
    },
    {
      "cell_type": "markdown",
      "metadata": {
        "id": "_-QoCNXkhryC"
      },
      "source": [
        "## FDA Inspection Classification \n",
        "Source: https://www.fda.gov/inspections-compliance-enforcement-and-criminal-investigations/inspection-classification-database\n"
      ]
    },
    {
      "cell_type": "code",
      "metadata": {
        "id": "3Vv8IF2zUzji"
      },
      "source": [
        "!wget https://www.fda.gov/media/79333/download"
      ],
      "execution_count": null,
      "outputs": []
    },
    {
      "cell_type": "code",
      "metadata": {
        "id": "Nr_8g7yBXU_y"
      },
      "source": [
        "# Issue with pandas profiling\n",
        "# Upgrade both packages solve the problem\n",
        "\n",
        "!pip install  pandas pandas_profiling --upgrade"
      ],
      "execution_count": null,
      "outputs": []
    },
    {
      "cell_type": "code",
      "metadata": {
        "id": "2cWs3QVuVNYW"
      },
      "source": [
        "import pandas as pd\n",
        "from pandas_profiling import ProfileReport"
      ],
      "execution_count": 10,
      "outputs": []
    },
    {
      "cell_type": "code",
      "metadata": {
        "id": "hg9p5oGCXcgZ"
      },
      "source": [
        "print(pd.__version__)"
      ],
      "execution_count": null,
      "outputs": []
    },
    {
      "cell_type": "code",
      "metadata": {
        "id": "UXsicLfmVQs6",
        "outputId": "700f9ee0-8094-47c2-bede-68f7789fb3dc",
        "colab": {
          "base_uri": "https://localhost:8080/",
          "height": 358
        }
      },
      "source": [
        "df = pd.read_excel(\"download\")\n",
        "df.head()"
      ],
      "execution_count": 14,
      "outputs": [
        {
          "output_type": "execute_result",
          "data": {
            "text/html": [
              "<div>\n",
              "<style scoped>\n",
              "    .dataframe tbody tr th:only-of-type {\n",
              "        vertical-align: middle;\n",
              "    }\n",
              "\n",
              "    .dataframe tbody tr th {\n",
              "        vertical-align: top;\n",
              "    }\n",
              "\n",
              "    .dataframe thead th {\n",
              "        text-align: right;\n",
              "    }\n",
              "</style>\n",
              "<table border=\"1\" class=\"dataframe\">\n",
              "  <thead>\n",
              "    <tr style=\"text-align: right;\">\n",
              "      <th></th>\n",
              "      <th>District</th>\n",
              "      <th>Legal Name</th>\n",
              "      <th>City</th>\n",
              "      <th>State</th>\n",
              "      <th>Zip</th>\n",
              "      <th>Country/Area</th>\n",
              "      <th>Inspection End Date</th>\n",
              "      <th>Center</th>\n",
              "      <th>Project Area</th>\n",
              "      <th>Classification</th>\n",
              "    </tr>\n",
              "  </thead>\n",
              "  <tbody>\n",
              "    <tr>\n",
              "      <th>0</th>\n",
              "      <td>ATL</td>\n",
              "      <td>Mckesson Drug Company</td>\n",
              "      <td>Duluth</td>\n",
              "      <td>GA</td>\n",
              "      <td>30096-5843</td>\n",
              "      <td>US</td>\n",
              "      <td>2008-10-01</td>\n",
              "      <td>CDER</td>\n",
              "      <td>Drug Quality Assurance</td>\n",
              "      <td>VAI</td>\n",
              "    </tr>\n",
              "    <tr>\n",
              "      <th>1</th>\n",
              "      <td>ATL</td>\n",
              "      <td>Morehouse School Of Medicine-IRB</td>\n",
              "      <td>Atlanta</td>\n",
              "      <td>GA</td>\n",
              "      <td>30310-1458</td>\n",
              "      <td>US</td>\n",
              "      <td>2008-10-01</td>\n",
              "      <td>CDER</td>\n",
              "      <td>Bioresearch Monitoring</td>\n",
              "      <td>NAI</td>\n",
              "    </tr>\n",
              "    <tr>\n",
              "      <th>2</th>\n",
              "      <td>ATL</td>\n",
              "      <td>Bland, Andrew, M.D.</td>\n",
              "      <td>Dalton</td>\n",
              "      <td>GA</td>\n",
              "      <td>30720-2529</td>\n",
              "      <td>US</td>\n",
              "      <td>2008-10-09</td>\n",
              "      <td>CDER</td>\n",
              "      <td>Bioresearch Monitoring</td>\n",
              "      <td>NAI</td>\n",
              "    </tr>\n",
              "    <tr>\n",
              "      <th>3</th>\n",
              "      <td>ATL</td>\n",
              "      <td>Littlejohn Iii  Thomas W</td>\n",
              "      <td>Winston Salem</td>\n",
              "      <td>NC</td>\n",
              "      <td>27103-3914</td>\n",
              "      <td>US</td>\n",
              "      <td>2008-10-10</td>\n",
              "      <td>CDER</td>\n",
              "      <td>Bioresearch Monitoring</td>\n",
              "      <td>NAI</td>\n",
              "    </tr>\n",
              "    <tr>\n",
              "      <th>4</th>\n",
              "      <td>ATL</td>\n",
              "      <td>Custom Milling Inc</td>\n",
              "      <td>Davisboro</td>\n",
              "      <td>GA</td>\n",
              "      <td>31018</td>\n",
              "      <td>US</td>\n",
              "      <td>2008-10-14</td>\n",
              "      <td>CVM</td>\n",
              "      <td>Monitoring of Marketed Animal Drugs, Feed, and...</td>\n",
              "      <td>NAI</td>\n",
              "    </tr>\n",
              "  </tbody>\n",
              "</table>\n",
              "</div>"
            ],
            "text/plain": [
              "  District  ... Classification\n",
              "0      ATL  ...            VAI\n",
              "1      ATL  ...            NAI\n",
              "2      ATL  ...            NAI\n",
              "3      ATL  ...            NAI\n",
              "4      ATL  ...            NAI\n",
              "\n",
              "[5 rows x 10 columns]"
            ]
          },
          "metadata": {
            "tags": []
          },
          "execution_count": 14
        }
      ]
    },
    {
      "cell_type": "code",
      "metadata": {
        "id": "zae_hjJmWN0j"
      },
      "source": [
        "prof = ProfileReport(df)\n",
        "prof.to_file(output_file=\"inspection_classification.html\")\n",
        "prof"
      ],
      "execution_count": null,
      "outputs": []
    }
  ]
}