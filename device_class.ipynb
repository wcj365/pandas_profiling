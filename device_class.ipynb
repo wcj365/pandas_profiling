{
 "cells": [
  {
   "cell_type": "markdown",
   "metadata": {},
   "source": [
    "# FDA Device Classification \n",
    "- Python Library: Pandas Profiling\n",
    "- Data Source: https://download.open.fda.gov/device/classification/device-classification-0001-of-0001.json.zip"
   ]
  },
  {
   "cell_type": "code",
   "execution_count": 1,
   "metadata": {},
   "outputs": [
    {
     "name": "stdout",
     "output_type": "stream",
     "text": [
      "Successfully installed confuse-1.3.0 htmlmin-0.1.12 imagehash-4.1.0 missingno-0.4.2 pandas-profiling-2.9.0 phik-0.10.0 tangled-up-in-unicode-0.0.6 visions-0.5.0\n"
     ]
    }
   ],
   "source": [
    "!pip install pandas_profiling"
   ]
  },
  {
   "cell_type": "code",
   "execution_count": 14,
   "metadata": {},
   "outputs": [],
   "source": [
    "import json\n",
    "import pandas as pd\n",
    "from pandas_profiling import ProfileReport\n",
    "from ipywidgets import widget"
   ]
  },
  {
   "cell_type": "code",
   "execution_count": 5,
   "metadata": {},
   "outputs": [
    {
     "data": {
      "text/html": [
       "<div>\n",
       "<style scoped>\n",
       "    .dataframe tbody tr th:only-of-type {\n",
       "        vertical-align: middle;\n",
       "    }\n",
       "\n",
       "    .dataframe tbody tr th {\n",
       "        vertical-align: top;\n",
       "    }\n",
       "\n",
       "    .dataframe thead th {\n",
       "        text-align: right;\n",
       "    }\n",
       "</style>\n",
       "<table border=\"1\" class=\"dataframe\">\n",
       "  <thead>\n",
       "    <tr style=\"text-align: right;\">\n",
       "      <th></th>\n",
       "      <th>definition</th>\n",
       "      <th>implant_flag</th>\n",
       "      <th>review_code</th>\n",
       "      <th>gmp_exempt_flag</th>\n",
       "      <th>third_party_flag</th>\n",
       "      <th>summarymalfunctionreporting</th>\n",
       "      <th>device_class</th>\n",
       "      <th>openfda</th>\n",
       "      <th>medical_specialty</th>\n",
       "      <th>device_name</th>\n",
       "      <th>life_sustain_support_flag</th>\n",
       "      <th>regulation_number</th>\n",
       "      <th>review_panel</th>\n",
       "      <th>submission_type_id</th>\n",
       "      <th>medical_specialty_description</th>\n",
       "      <th>product_code</th>\n",
       "      <th>unclassified_reason</th>\n",
       "    </tr>\n",
       "  </thead>\n",
       "  <tbody>\n",
       "    <tr>\n",
       "      <th>2532</th>\n",
       "      <td></td>\n",
       "      <td>N</td>\n",
       "      <td></td>\n",
       "      <td>N</td>\n",
       "      <td>N</td>\n",
       "      <td>Ineligible</td>\n",
       "      <td>2</td>\n",
       "      <td>{'registration_number': ['3010202439', '961061...</td>\n",
       "      <td>GU</td>\n",
       "      <td>Endoscope, Rigid</td>\n",
       "      <td>N</td>\n",
       "      <td>876.1500</td>\n",
       "      <td>GU</td>\n",
       "      <td>1</td>\n",
       "      <td>Gastroenterology, Urology</td>\n",
       "      <td>GCM</td>\n",
       "      <td></td>\n",
       "    </tr>\n",
       "    <tr>\n",
       "      <th>1588</th>\n",
       "      <td></td>\n",
       "      <td>N</td>\n",
       "      <td></td>\n",
       "      <td>N</td>\n",
       "      <td>N</td>\n",
       "      <td>Eligible</td>\n",
       "      <td>1</td>\n",
       "      <td>{'registration_number': ['3009335633', '300967...</td>\n",
       "      <td>CH</td>\n",
       "      <td>Radioimmunoassay, Androstenedione</td>\n",
       "      <td>N</td>\n",
       "      <td>862.1075</td>\n",
       "      <td>CH</td>\n",
       "      <td>4</td>\n",
       "      <td>Clinical Chemistry</td>\n",
       "      <td>CIZ</td>\n",
       "      <td></td>\n",
       "    </tr>\n",
       "    <tr>\n",
       "      <th>3341</th>\n",
       "      <td></td>\n",
       "      <td>N</td>\n",
       "      <td></td>\n",
       "      <td>N</td>\n",
       "      <td>N</td>\n",
       "      <td>Eligible</td>\n",
       "      <td>3</td>\n",
       "      <td>{}</td>\n",
       "      <td>HE</td>\n",
       "      <td>Warmer, Blood, Electromagnetic Radiation</td>\n",
       "      <td>N</td>\n",
       "      <td>864.9205</td>\n",
       "      <td>HE</td>\n",
       "      <td>2</td>\n",
       "      <td>Hematology</td>\n",
       "      <td>BSA</td>\n",
       "      <td></td>\n",
       "    </tr>\n",
       "    <tr>\n",
       "      <th>184</th>\n",
       "      <td></td>\n",
       "      <td>N</td>\n",
       "      <td></td>\n",
       "      <td>N</td>\n",
       "      <td>Y</td>\n",
       "      <td>Eligible</td>\n",
       "      <td>2</td>\n",
       "      <td>{'registration_number': ['3004048494', '301452...</td>\n",
       "      <td>OB</td>\n",
       "      <td>Labware, Assisted Reproduction</td>\n",
       "      <td>N</td>\n",
       "      <td>884.6160</td>\n",
       "      <td>OB</td>\n",
       "      <td>1</td>\n",
       "      <td>Obstetrics/Gynecology</td>\n",
       "      <td>MQK</td>\n",
       "      <td></td>\n",
       "    </tr>\n",
       "    <tr>\n",
       "      <th>4319</th>\n",
       "      <td></td>\n",
       "      <td>N</td>\n",
       "      <td></td>\n",
       "      <td>N</td>\n",
       "      <td>Y</td>\n",
       "      <td>Eligible</td>\n",
       "      <td>2</td>\n",
       "      <td>{'registration_number': ['2244646', '9610816',...</td>\n",
       "      <td>CV</td>\n",
       "      <td>Tester, Electrode, Surface, Electrocardiographic</td>\n",
       "      <td>N</td>\n",
       "      <td>870.2370</td>\n",
       "      <td>CV</td>\n",
       "      <td>1</td>\n",
       "      <td>Cardiovascular</td>\n",
       "      <td>KRC</td>\n",
       "      <td></td>\n",
       "    </tr>\n",
       "  </tbody>\n",
       "</table>\n",
       "</div>"
      ],
      "text/plain": [
       "     definition implant_flag review_code gmp_exempt_flag third_party_flag  \\\n",
       "2532                       N                           N                N   \n",
       "1588                       N                           N                N   \n",
       "3341                       N                           N                N   \n",
       "184                        N                           N                Y   \n",
       "4319                       N                           N                Y   \n",
       "\n",
       "     summarymalfunctionreporting device_class  \\\n",
       "2532                  Ineligible            2   \n",
       "1588                    Eligible            1   \n",
       "3341                    Eligible            3   \n",
       "184                     Eligible            2   \n",
       "4319                    Eligible            2   \n",
       "\n",
       "                                                openfda medical_specialty  \\\n",
       "2532  {'registration_number': ['3010202439', '961061...                GU   \n",
       "1588  {'registration_number': ['3009335633', '300967...                CH   \n",
       "3341                                                 {}                HE   \n",
       "184   {'registration_number': ['3004048494', '301452...                OB   \n",
       "4319  {'registration_number': ['2244646', '9610816',...                CV   \n",
       "\n",
       "                                           device_name  \\\n",
       "2532                                  Endoscope, Rigid   \n",
       "1588                 Radioimmunoassay, Androstenedione   \n",
       "3341          Warmer, Blood, Electromagnetic Radiation   \n",
       "184                     Labware, Assisted Reproduction   \n",
       "4319  Tester, Electrode, Surface, Electrocardiographic   \n",
       "\n",
       "     life_sustain_support_flag regulation_number review_panel  \\\n",
       "2532                         N          876.1500           GU   \n",
       "1588                         N          862.1075           CH   \n",
       "3341                         N          864.9205           HE   \n",
       "184                          N          884.6160           OB   \n",
       "4319                         N          870.2370           CV   \n",
       "\n",
       "     submission_type_id medical_specialty_description product_code  \\\n",
       "2532                  1     Gastroenterology, Urology          GCM   \n",
       "1588                  4            Clinical Chemistry          CIZ   \n",
       "3341                  2                    Hematology          BSA   \n",
       "184                   1         Obstetrics/Gynecology          MQK   \n",
       "4319                  1                Cardiovascular          KRC   \n",
       "\n",
       "     unclassified_reason  \n",
       "2532                      \n",
       "1588                      \n",
       "3341                      \n",
       "184                       \n",
       "4319                      "
      ]
     },
     "execution_count": 5,
     "metadata": {},
     "output_type": "execute_result"
    }
   ],
   "source": [
    "data = json.load(open(\"data/device-classification-10-05-2020.json\"))\n",
    "df = pd.DataFrame(data[\"results\"])\n",
    "df.sample(5)"
   ]
  },
  {
   "cell_type": "code",
   "execution_count": 6,
   "metadata": {},
   "outputs": [
    {
     "name": "stdout",
     "output_type": "stream",
     "text": [
      "<class 'pandas.core.frame.DataFrame'>\n",
      "RangeIndex: 6638 entries, 0 to 6637\n",
      "Data columns (total 17 columns):\n",
      " #   Column                         Non-Null Count  Dtype \n",
      "---  ------                         --------------  ----- \n",
      " 0   definition                     6638 non-null   object\n",
      " 1   implant_flag                   6638 non-null   object\n",
      " 2   review_code                    6638 non-null   object\n",
      " 3   gmp_exempt_flag                6638 non-null   object\n",
      " 4   third_party_flag               6638 non-null   object\n",
      " 5   summarymalfunctionreporting    6638 non-null   object\n",
      " 6   device_class                   6638 non-null   object\n",
      " 7   openfda                        6638 non-null   object\n",
      " 8   medical_specialty              6638 non-null   object\n",
      " 9   device_name                    6638 non-null   object\n",
      " 10  life_sustain_support_flag      6638 non-null   object\n",
      " 11  regulation_number              6638 non-null   object\n",
      " 12  review_panel                   6638 non-null   object\n",
      " 13  submission_type_id             6638 non-null   object\n",
      " 14  medical_specialty_description  6638 non-null   object\n",
      " 15  product_code                   6638 non-null   object\n",
      " 16  unclassified_reason            6638 non-null   object\n",
      "dtypes: object(17)\n",
      "memory usage: 881.7+ KB\n"
     ]
    }
   ],
   "source": [
    "df.info()"
   ]
  },
  {
   "cell_type": "code",
   "execution_count": null,
   "metadata": {},
   "outputs": [],
   "source": [
    "# prof = df.profile_report() ### alternatively\n",
    "# prof = ProfileReport(df)\n",
    "\n",
    "prof = ProfileReport(df, title='Pandas Profiling Report', explorative=True, html={\"style\":{\"full_width\":True}})\n",
    "\n",
    "# prof.to_widgets()   not working"
   ]
  },
  {
   "cell_type": "code",
   "execution_count": null,
   "metadata": {},
   "outputs": [],
   "source": [
    "prof"
   ]
  },
  {
   "cell_type": "code",
   "execution_count": 8,
   "metadata": {},
   "outputs": [
    {
     "data": {
      "application/vnd.jupyter.widget-view+json": {
       "model_id": "ee43d7263d1747268b50c8cbacb82f14",
       "version_major": 2,
       "version_minor": 0
      },
      "text/plain": [
       "HBox(children=(FloatProgress(value=0.0, description='Export report to file', max=1.0, style=ProgressStyle(desc…"
      ]
     },
     "metadata": {},
     "output_type": "display_data"
    },
    {
     "name": "stdout",
     "output_type": "stream",
     "text": [
      "\n"
     ]
    }
   ],
   "source": [
    "prof.to_file(output_file='reports/device_class.html')"
   ]
  },
  {
   "cell_type": "markdown",
   "metadata": {},
   "source": [
    "The End."
   ]
  }
 ],
 "metadata": {
  "kernelspec": {
   "display_name": "Python 3",
   "language": "python",
   "name": "python3"
  },
  "language_info": {
   "codemirror_mode": {
    "name": "ipython",
    "version": 3
   },
   "file_extension": ".py",
   "mimetype": "text/x-python",
   "name": "python",
   "nbconvert_exporter": "python",
   "pygments_lexer": "ipython3",
   "version": "3.7.7"
  }
 },
 "nbformat": 4,
 "nbformat_minor": 4
}
